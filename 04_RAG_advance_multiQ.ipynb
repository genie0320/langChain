{
  "nbformat": 4,
  "nbformat_minor": 0,
  "metadata": {
    "colab": {
      "provenance": [],
      "collapsed_sections": [
        "XVL3ApmGPT-Y",
        "K7Tpj3PzRv5Q"
      ],
      "gpuType": "T4",
      "authorship_tag": "ABX9TyNuUURPaXbWJqsO03rhPQDa",
      "include_colab_link": true
    },
    "kernelspec": {
      "name": "python3",
      "display_name": "Python 3"
    },
    "language_info": {
      "name": "python"
    },
    "accelerator": "GPU"
  },
  "cells": [
    {
      "cell_type": "markdown",
      "metadata": {
        "id": "view-in-github",
        "colab_type": "text"
      },
      "source": [
        "<a href=\"https://colab.research.google.com/github/genie0320/langchain/blob/main/04_RAG_advance_multiQ.ipynb\" target=\"_parent\"><img src=\"https://colab.research.google.com/assets/colab-badge.svg\" alt=\"Open In Colab\"/></a>"
      ]
    },
    {
      "cell_type": "markdown",
      "source": [
        "# 개요"
      ],
      "metadata": {
        "id": "XVL3ApmGPT-Y"
      }
    },
    {
      "cell_type": "markdown",
      "source": [
        "RAG는 여러 과정을 거치면서 진행된다. 매 과정이 치명적으로 중요하다.\n",
        "\n",
        "- 멀티쿼리 : 대충질문해도 좋은 답변을 원하는 이들을 위해 다음에 집중해야 한다.\n",
        "- 페어런트 도큐먼트 : 앞뒤 문장을 잘 담아야 하고(chunk의 중요성)\n",
        "- 셀프쿼리(질문재해석) : 시맨틱검색 말고 쿼리가 필요한 경우\n",
        "  - 시맨틱검색이란 질문문장과 임베딩데이터의 벡터값에 따라 유사데이터를 걸러내는 것인데, 이 경우 질문의 모양이 조금만 달라져도 추출 데이터 자체가 달라진다. 이것은 '질문이 우선되는 구조'이기 때문이다.\n",
        "  이 경우, 데이터를 중심으로 사용자의 질문을 참고하여 쿼리를 날려서 정리해야 할 필요가 생길 수 있다. 이것도 고려해야 한다.\n",
        "- 타임 웨이티드 : 오래된 자료는 덜 참고했으면...\n",
        "  - 최근에 올라간 자료에 무게를 둬서 답변을 참고했으면 좋겠다."
      ],
      "metadata": {
        "id": "TDhMP6vXPV_H"
      }
    },
    {
      "cell_type": "markdown",
      "source": [
        "## 멀티쿼리 리트리버\n",
        "\n",
        "사용자의 질문을 여러개의 유사질문으로 재생성하고, 각 질문에 대한 데이터를 추출해서 답변을 생성하는 방법."
      ],
      "metadata": {
        "id": "OKJkxZJHQirO"
      }
    },
    {
      "cell_type": "markdown",
      "source": [
        "# 코드"
      ],
      "metadata": {
        "id": "lYRz1PfTQhBG"
      }
    },
    {
      "cell_type": "markdown",
      "source": [
        "## Setting"
      ],
      "metadata": {
        "id": "K7Tpj3PzRv5Q"
      }
    },
    {
      "cell_type": "code",
      "source": [
        "# # colab 환경설정\n",
        "# import os\n",
        "# from google.colab import userdata\n",
        "\n",
        "# os.environ['OPENAI_API_KEY'] = userdata.get('OPENAI_API_KEY')\n",
        "# os.environ['HUGGINGFACEHUB_API_TOKEN'] = userdata.get('HUGGINGFACEHUB_API_TOKEN')\n",
        "# os.environ['HF_TOKEN'] = userdata.get('HUGGINGFACEHUB_API_TOKEN')\n",
        "# os.environ['GOOGLE_API_KEY'] = userdata.get('GOOGLE_API_KEY')\n",
        "\n",
        "# from google.colab import drive\n",
        "# drive.mount('/content/drive')"
      ],
      "metadata": {
        "colab": {
          "base_uri": "https://localhost:8080/"
        },
        "id": "CXg9uG_AReSG",
        "outputId": "ceffd802-dd82-4870-ac48-bff1e52abd74"
      },
      "execution_count": 1,
      "outputs": [
        {
          "output_type": "stream",
          "name": "stdout",
          "text": [
            "Mounted at /content/drive\n"
          ]
        }
      ]
    },
    {
      "cell_type": "code",
      "source": [
        "# !pip install -U -q langchain pypdf sentence_transformers chromadb langchain-openai"
      ],
      "metadata": {
        "colab": {
          "base_uri": "https://localhost:8080/"
        },
        "id": "ILW5zYHPRJ55",
        "outputId": "9311cead-39cc-4b23-c776-e88a8d52ed0e"
      },
      "execution_count": 4,
      "outputs": [
        {
          "output_type": "stream",
          "name": "stdout",
          "text": [
            "\u001b[31mERROR: pip's dependency resolver does not currently take into account all the packages that are installed. This behaviour is the source of the following dependency conflicts.\n",
            "lida 0.0.10 requires kaleido, which is not installed.\n",
            "lida 0.0.10 requires python-multipart, which is not installed.\n",
            "llmx 0.0.15a0 requires cohere, which is not installed.\u001b[0m\u001b[31m\n",
            "\u001b[0m"
          ]
        }
      ]
    },
    {
      "cell_type": "markdown",
      "source": [
        "## Multi-Query Retriever"
      ],
      "metadata": {
        "id": "-UKWyKrwRf3f"
      }
    },
    {
      "cell_type": "code",
      "execution_count": null,
      "metadata": {
        "id": "lAI_KciVRoq-"
      },
      "outputs": [],
      "source": [
        "from langchain.text_splitter import RecursiveCharacterTextSplitter\n",
        "from langchain.vectorstores import Chroma\n",
        "from langchain_community.document_loaders import WebBaseLoader\n",
        "\n",
        "from langchain.embeddings import HuggingFaceEmbeddings"
      ]
    },
    {
      "cell_type": "code",
      "source": [
        "# url = 'https://brunch.co.kr/@hae-ra/22'\n",
        "url = 'https://n.news.naver.com/article/002/0002319323?cds=news_media_pc&type=editn'\n",
        "loader = WebBaseLoader(url)\n",
        "documents = loader.load()"
      ],
      "metadata": {
        "id": "Z5ej2EeSEu7e"
      },
      "execution_count": 6,
      "outputs": []
    },
    {
      "cell_type": "code",
      "source": [
        "documents[0].page_content[:50]"
      ],
      "metadata": {
        "colab": {
          "base_uri": "https://localhost:8080/",
          "height": 35
        },
        "id": "Sy9nPcb_aVM6",
        "outputId": "60762046-a533-460d-f502-de4c27cc6081"
      },
      "execution_count": 7,
      "outputs": [
        {
          "output_type": "execute_result",
          "data": {
            "text/plain": [
              "'\\n\\n\\n\\n\\n\\n\\n\\n\\n\\n\\n\\n\\n\\n\\n\\n\\n\\n\\n헤어샵 포기 후 택한 공장, 일이 불규칙해지더니 서명지가'"
            ],
            "application/vnd.google.colaboratory.intrinsic+json": {
              "type": "string"
            }
          },
          "metadata": {},
          "execution_count": 7
        }
      ]
    },
    {
      "cell_type": "code",
      "source": [
        "text_splitter = RecursiveCharacterTextSplitter(\n",
        "    chunk_size = 500,\n",
        "    chunk_overlap = 50,\n",
        "    is_separator_regex=False,\n",
        "    )\n",
        "texts = text_splitter.split_documents(documents)"
      ],
      "metadata": {
        "id": "fYKpBf_9TANq"
      },
      "execution_count": 8,
      "outputs": []
    },
    {
      "cell_type": "code",
      "source": [
        "texts[0]"
      ],
      "metadata": {
        "colab": {
          "base_uri": "https://localhost:8080/"
        },
        "id": "4khlYDkAUPgl",
        "outputId": "c1df3b81-7570-463f-95c7-9e2c717fb498"
      },
      "execution_count": 9,
      "outputs": [
        {
          "output_type": "execute_result",
          "data": {
            "text/plain": [
              "Document(page_content='헤어샵 포기 후 택한 공장, 일이 불규칙해지더니 서명지가 돌았다[전수경의 MZ 여성 그리고 빈곤]\\n\\n\\n\\n\\n\\n\\n\\n\\n\\n\\n\\n\\n\\n본문 바로가기\\n\\n\\n\\n\\n\\n\\n이전 페이지\\n\\n\\n\\n\\n\\n\\n프레시안\\n\\n\\n\\n구독\\n\\n언론사를 구독하면 메인에서 바로 볼 수 있어요!\\n\\n\\n메인 뉴스판에서 프레시안 주요뉴스를  볼 수 있습니다.\\n보러가기\\n\\n\\n프레시안 언론사 구독 해지되었습니다.\\n\\n\\n\\n\\n\\n\\n\\n\\n\\n\\n주요뉴스\\n총선\\n정치\\n경제\\n사회\\n생활\\n세계\\n사설/칼럼\\n랭킹\\n\\n\\n\\n\\n\\n\\n\\n\\n\\n\\n\\n\\n\\n\\n\\n\\n\\n\\n\\nPICK\\n안내\\n\\n\\n언론사가 주요기사로선정한 기사입니다.\\n언론사별 바로가기\\n닫기\\n\\n\\n\\n\\n헤어샵 포기 후 택한 공장, 일이 불규칙해지더니 서명지가 돌았다[전수경의 MZ 여성 그리고 빈곤]\\n\\n\\n\\n\\n입력2024.02.14. 오전 5:04\\n\\n기사원문\\n \\n\\n\\n\\n\\n\\n\\n\\n\\n추천\\n\\n\\n\\n\\n쏠쏠정보\\n0\\n\\n\\n\\n\\n흥미진진\\n0\\n\\n\\n\\n\\n공감백배\\n0\\n\\n\\n\\n\\n분석탁월\\n0\\n\\n\\n\\n\\n후속강추\\n0\\n\\n\\n \\n\\n\\n\\n댓글\\n\\n\\n\\n\\n\\n본문 요약봇', metadata={'source': 'https://n.news.naver.com/article/002/0002319323?cds=news_media_pc&type=editn', 'title': '헤어샵 포기 후 택한 공장, 일이 불규칙해지더니 서명지가 돌았다[전수경의 MZ 여성 그리고 빈곤]', 'language': 'ko'})"
            ]
          },
          "metadata": {},
          "execution_count": 9
        }
      ]
    },
    {
      "cell_type": "code",
      "source": [
        "DB_URL = '/content/drive/MyDrive/vector_upgrade/'\n",
        "MODEL_NAME= \"jhgan/ko-sbert-nli\"\n",
        "encode_kwargs={'normalize_embeddings':True}\n",
        "\n",
        "ko_embed = HuggingFaceEmbeddings(\n",
        "    model_name= MODEL_NAME,\n",
        "    # model_kwargs={'device' : 'cpu'},\n",
        "    encode_kwargs=encode_kwargs\n",
        "    )\n",
        "# vector_stores = Chroma.from_documents(texts, hug_embed)\n",
        "vector_stores = Chroma.from_documents(\n",
        "    texts,\n",
        "    ko_embed,\n",
        "    persist_directory = DB_URL\n",
        ")\n",
        "print('hug_embed : Document Stored!!')\n",
        "\n",
        "load_vector_store = Chroma(\n",
        "    persist_directory = DB_URL,\n",
        "    embedding_function = ko_embed,\n",
        "    )\n",
        "\n",
        "print(f'Vector store seted : load_vector_store')"
      ],
      "metadata": {
        "id": "R6FKqP_MhoAA"
      },
      "execution_count": null,
      "outputs": []
    },
    {
      "cell_type": "code",
      "source": [
        "# ___ setting ___\n",
        "LLM_MODEL = \"gpt-3.5-turbo\"\n",
        "MAX = 265\n",
        "TEMP = 1.5\n",
        "# _______________\n",
        "\n",
        "from langchain_openai import OpenAI\n",
        "from langchain_openai import ChatOpenAI\n",
        "\n",
        "openai_compbot = OpenAI(\n",
        "    temperature=TEMP,\n",
        "    max_tokens = MAX,\n",
        "    verbose = True,\n",
        ")\n",
        "openai_chatbot = ChatOpenAI(\n",
        "    model_name = LLM_MODEL,\n",
        "    temperature=TEMP,\n",
        "    max_tokens = MAX,\n",
        "    verbose = True,\n",
        ")"
      ],
      "metadata": {
        "id": "TewjO9SAkIlJ"
      },
      "execution_count": 13,
      "outputs": []
    },
    {
      "cell_type": "code",
      "source": [
        "from langchain.retrievers.multi_query import MultiQueryRetriever\n",
        "from langchain.chat_models import ChatOpenAI\n",
        "\n",
        "question = '헤어샵을 포기한 이유는?'\n",
        "\n",
        "llm = openai_chatbot\n",
        "retriever_from_llm = MultiQueryRetriever.from_llm(\n",
        "    retriever=load_vector_store.as_retriever(),\n",
        "    llm=llm\n",
        ")"
      ],
      "metadata": {
        "id": "C_TxO4r5jk2i"
      },
      "execution_count": 15,
      "outputs": []
    },
    {
      "cell_type": "code",
      "source": [
        "import logging\n",
        "\n",
        "logging.basicConfig()\n",
        "logging.getLogger('langchain.retrievers.multi_query').setLevel(logging.INFO)"
      ],
      "metadata": {
        "id": "bbt5QAWFkxyL"
      },
      "execution_count": 18,
      "outputs": []
    },
    {
      "cell_type": "code",
      "source": [
        "unique_docs = retriever_from_llm.get_relevant_documents(query=question)\n",
        "len(unique_docs)"
      ],
      "metadata": {
        "colab": {
          "base_uri": "https://localhost:8080/"
        },
        "id": "666WdF0HlIMd",
        "outputId": "30d7473e-eb0d-4272-88b5-f17d405cddfb"
      },
      "execution_count": 19,
      "outputs": [
        {
          "output_type": "stream",
          "name": "stderr",
          "text": [
            "INFO:langchain.retrievers.multi_query:Generated queries: ['1. 헤어샵을 왜 그만두게 되었나요?', '2. 헤어샵을 나가야만 했던 이유가 어떻게 되시나요?', '3. 헤어샵을 더 이상 이용하지 않게 된 이유가 무엇인가요?']\n"
          ]
        },
        {
          "output_type": "execute_result",
          "data": {
            "text/plain": [
              "4"
            ]
          },
          "metadata": {},
          "execution_count": 19
        }
      ]
    },
    {
      "cell_type": "code",
      "source": [
        "unique_docs"
      ],
      "metadata": {
        "colab": {
          "base_uri": "https://localhost:8080/"
        },
        "id": "EDwJr_YSle99",
        "outputId": "e677d641-16ba-465e-be3f-bac3e4412154"
      },
      "execution_count": 20,
      "outputs": [
        {
          "output_type": "execute_result",
          "data": {
            "text/plain": [
              "[Document(page_content='없었다, 헤어용품 판매, 정기이용권 판매 압박도 부담이었다. 헤어샵의 매출에서 디자이너가 판매하는 정기이용권은 비중이 크다. 정기이용권을 선불로 구매한 고객들은 자신이 원하는 디자이너에게 계속 머리를 맡기고 싶어한다. 내 스타일을 잘 아는 디자이너 대신 낯선 디자이너가 내 머리를 손질한다면 고객은 헤어샵에 환불을 요구할 수도 있다. 코로나바이러스가 퍼지기 시작하던 때 헤어샵을 찾는 사람들이 급속하게 줄어들면서 매출이 바닥을 찍었다. 디자이너들이 받아 갈 급여가 거의 안 나왔다. 헤어샵 원장과 헤어샵 체인의 소유주는 고객이 선불로 지불한 이용권을 구실로 디자이너들을 잡았다. 디자이너가 나가려면 고객이 환불을 요구할 금액을 물어내야 했다. 선불권의 조건에 특정 디자이너가 아니어도 된다는 문구가 있지만 샵의 입장에서 고객이 환불을 요구할 때 거부하기는 어려울 것이다. 거액의 선불 이용권이 자신 앞으로 달려 있을 때 디자이너가 선택할 수 있는 건 돈을 물어주고 나오거나, 돈을 물어주기를', metadata={'language': 'ko', 'source': 'https://n.news.naver.com/article/002/0002319323?cds=news_media_pc&type=editn', 'title': '헤어샵 포기 후 택한 공장, 일이 불규칙해지더니 서명지가 돌았다[전수경의 MZ 여성 그리고 빈곤]'}),\n",
              " Document(page_content=\"어머니는 나이가 들면서 몸이 자꾸 아프다. 집에서 벗어나고자 스스로 직업을 개척했고 능력 있는 헤어디자이너도 됐지만 자리를 잡지 못했다. 헤어 일이 여전히 좋아 손이 굳을까 봐 걱정이지만 다시 할 수 있을지는 모르겠다. 공장에서 다친 허리는 끌어안고 있다가 나중에 정형외과에 갔다. 도수치료라는 것을 받으라고 권유해서 해보니 한 번에 12만 원이 나왔다. 지금 월급으로는 불가능했다. '청년여성 산재회복 지원사업'에서 받은 100만 원의 절반을 니은은 부모님의 병원비로 부칠 수밖에 없었다. 나머지 돈으로 니은은 한의원에 가서 침을 맞는다. 한의원에 갈 수 있어서 좋다, 고 니은은 거듭 말했다. 다만 불안하다. '쉬는 걸 좋아하지 않'는데 회사가 언제까지 어려울지가 걱정이다. * 이 연재는 2023년 '노동건강연대'와 '아름다운재단'이 함께 한 <청년여성 산재회복 지원사업>에서 만난 여성들, 노동건강연대가 활동하면서 만난 여성들의 이야기를 바탕으로 하고 있습니다.\", metadata={'language': 'ko', 'source': 'https://n.news.naver.com/article/002/0002319323?cds=news_media_pc&type=editn', 'title': '헤어샵 포기 후 택한 공장, 일이 불규칙해지더니 서명지가 돌았다[전수경의 MZ 여성 그리고 빈곤]'}),\n",
              " Document(page_content='달려 있을 때 디자이너가 선택할 수 있는 건 돈을 물어주고 나오거나, 돈을 물어주기를 거부하고 나오거나, 코로나가 지나갈 때까지 헤어샵에 버티면서 기약없는 회복을 기다리는 것이었다. 돈을 물어주기를 거부하고 나오는 것은 이론으로는 가능해도 현실에서는 두려운 일이다. 업계가 좁다고 으르는 원장과 사장의 위협을 이겨내야 한다. 위협은 물리적으로도 행해질 수 있었다. 니은은 선택의 자유라고 하기 어려운 이 세 개의 선택지 중에 하나를 택했다. 프리랜서라는 이름의 노동자들 가운데서도 헤어디자이너의 예속성은 복잡한 데가 있어 보였다. 노동이 행해지는 헤어샵이라는 물리적인 공간의 특성, 경력에 따른 위계, 고객과의 관계, 헤어샵 경영구조의 특성, 관련 사업의 이권이 섞여 있다. 말단에는 견습, 스탭들이 있겠지만 고된 훈련과정을 거쳐 디자이너가 되어도 이윤 구조의 상위에 자리 잡지는 못하는 것이다. 오히려 생산의 최전선에서 상품을 생산하는 노동자에 가깝지만 창조적이고 창의적인 작업을 한다는', metadata={'language': 'ko', 'source': 'https://n.news.naver.com/article/002/0002319323?cds=news_media_pc&type=editn', 'title': '헤어샵 포기 후 택한 공장, 일이 불규칙해지더니 서명지가 돌았다[전수경의 MZ 여성 그리고 빈곤]'}),\n",
              " Document(page_content='많이 본\\n\\n\\n댓글 많은\\n\\n\\n\\n\\n\\n\\n\\n\\n\\n1\\n\\n헤어샵 포기 후 택한 공장, 일이 불규칙해지더니 서명지가 돌았다[전수경의 MZ 여성 그리고 빈곤]\\n6시간전\\n\\n\\n\\n\\n\\n\\n\\n더보기\\n\\n\\n\\n\\n\\n2\\n\\n대통령실, \\'명품백\\' 정보 비공개 결정…\"국가안전보장 사항, 공개되면 국익 현저히 해칠 우려\"\\n1시간전\\n\\n\\n\\n\\n\\n\\n\\n더보기\\n\\n\\n\\n\\n\\n3\\n\\n진중권, \\'의대 증원\\' 두고 \"총선용 세게 때린 것…지난정권 못한 걸 하겠다는 것\"\\n6시간전\\n\\n\\n\\n\\n\\n\\n\\n더보기\\n\\n\\n\\n\\n\\n4\\n\\n\"아쉽다\"는 尹 입장 표명 \\'적절치 않다\\' 67% vs. \\'적절하다\\' 27%[여론조사 동향]\\n3시간전\\n\\n\\n\\n\\n\\n\\n\\n더보기\\n\\n\\n\\n\\n\\n5\\n\\n유혹 앞에 선 진보정당, 민주당의 하위 파트너가 될 것인가[장석준 칼럼]\\n6시간전\\n\\n\\n\\n\\n\\n\\n\\n더보기\\n\\n\\n\\n\\n\\n\\n\\n\\n\\n1\\n\\n\"아쉽다\"는 尹 입장 표명 \\'적절치 않다\\' 67% vs. \\'적절하다\\' 27%[여론조사 동향]\\n3시간전\\n\\n\\n\\n\\n\\n\\n\\n더보기\\n\\n\\n\\n\\n\\n2', metadata={'language': 'ko', 'source': 'https://n.news.naver.com/article/002/0002319323?cds=news_media_pc&type=editn', 'title': '헤어샵 포기 후 택한 공장, 일이 불규칙해지더니 서명지가 돌았다[전수경의 MZ 여성 그리고 빈곤]'})]"
            ]
          },
          "metadata": {},
          "execution_count": 20
        }
      ]
    }
  ]
}