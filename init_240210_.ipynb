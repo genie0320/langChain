{
  "nbformat": 4,
  "nbformat_minor": 0,
  "metadata": {
    "colab": {
      "provenance": [],
      "authorship_tag": "ABX9TyObdEUUgJCSGjeNUCkPN9xc",
      "include_colab_link": true
    },
    "kernelspec": {
      "name": "python3",
      "display_name": "Python 3"
    },
    "language_info": {
      "name": "python"
    }
  },
  "cells": [
    {
      "cell_type": "markdown",
      "metadata": {
        "id": "view-in-github",
        "colab_type": "text"
      },
      "source": [
        "<a href=\"https://colab.research.google.com/github/genie0320/langchain/blob/main/init_240210_.ipynb\" target=\"_parent\"><img src=\"https://colab.research.google.com/assets/colab-badge.svg\" alt=\"Open In Colab\"/></a>"
      ]
    },
    {
      "cell_type": "markdown",
      "source": [
        "# Set environment"
      ],
      "metadata": {
        "id": "9XZJdcyO7y-B"
      }
    },
    {
      "cell_type": "markdown",
      "source": [
        "Deprecated\n",
        "- `!pip install -q OpenAI` > `!pip install -q langchain-openai`"
      ],
      "metadata": {
        "id": "P0Mp-JRt_uq7"
      }
    },
    {
      "cell_type": "code",
      "execution_count": null,
      "metadata": {
        "id": "vZx3RoVgGX2Z"
      },
      "outputs": [],
      "source": [
        "# !pip install -q OpenAI\n",
        "!pip install -q -u langchain langchain-openai"
      ]
    },
    {
      "cell_type": "code",
      "source": [
        "from google.colab import drive\n",
        "drive.mount('/content/drive')"
      ],
      "metadata": {
        "colab": {
          "base_uri": "https://localhost:8080/"
        },
        "id": "dNxXQ33wIL9j",
        "outputId": "43f4c407-a4ed-4036-eb46-a33a8e6edffb"
      },
      "execution_count": 2,
      "outputs": [
        {
          "output_type": "stream",
          "name": "stdout",
          "text": [
            "Mounted at /content/drive\n"
          ]
        }
      ]
    },
    {
      "cell_type": "code",
      "source": [
        "# colab 환경설정\n",
        "import os\n",
        "from google.colab import userdata\n",
        "os.environ['OPENAI_API_KEY'] = userdata.get('OPENAI_API_KEY')\n",
        "HUGGINGFACEHUB_API_TOKEN = userdata.get('HUGGINGFACEHUB_API_TOKEN')"
      ],
      "metadata": {
        "id": "W_3FW-LSH728"
      },
      "execution_count": 11,
      "outputs": []
    },
    {
      "cell_type": "code",
      "source": [
        "!pip install -q icecream"
      ],
      "metadata": {
        "id": "wSWuG1_s_9rM"
      },
      "execution_count": null,
      "outputs": []
    },
    {
      "cell_type": "code",
      "source": [
        "from icecream import ic\n",
        "import pprint"
      ],
      "metadata": {
        "id": "IIuXaZ6nLl_O"
      },
      "execution_count": 4,
      "outputs": []
    },
    {
      "cell_type": "markdown",
      "source": [
        "# LLM test"
      ],
      "metadata": {
        "id": "W7uajFbV74Fc"
      }
    },
    {
      "cell_type": "markdown",
      "source": [
        "Deprecated\n",
        "  - `from langchain.llms import OpenAI` > `from langchain_openai import OpenAI`\n",
        "  - `text-davinch-003` model is no longer in use.\n",
        "  - The function `predict` > `invoke` instead."
      ],
      "metadata": {
        "id": "Qu347z0J-p0N"
      }
    },
    {
      "cell_type": "code",
      "source": [
        "!pip install -q -U langchain-openai"
      ],
      "metadata": {
        "id": "HghRxstg6g2u"
      },
      "execution_count": null,
      "outputs": []
    },
    {
      "cell_type": "code",
      "source": [
        "from langchain_openai import OpenAI\n",
        "davinch = OpenAI()\n",
        "davinch.invoke('why python is the most popular language? answer in Korean. ')"
      ],
      "metadata": {
        "colab": {
          "base_uri": "https://localhost:8080/",
          "height": 73
        },
        "id": "LPRMv9y_5-tv",
        "outputId": "8225dd2b-941a-4de9-a4fc-04fddf6b9626"
      },
      "execution_count": 12,
      "outputs": [
        {
          "output_type": "execute_result",
          "data": {
            "text/plain": [
              "'\\n\\n파이썬은 쉽고 간결한 문법을 가지고 있어서 초보자부터 전문가까지 쉽게 배울 수 있습니다. 또한 다양한 분야에서 사용되는 범용 언어이기 때문에 데이터 분석, 인공지능, 웹 개발 등 여러 분야에서 널리 사용됩니다. 또한 라이브러리와 프레임워크가 많이 개발되어 있어서 빠르고 효율적인 개발이 가능합니다. 이러한 이유들 때문에 파이썬은 가장 인기있는 언어 중 하나입니다.'"
            ],
            "application/vnd.google.colaboratory.intrinsic+json": {
              "type": "string"
            }
          },
          "metadata": {},
          "execution_count": 12
        }
      ]
    },
    {
      "cell_type": "markdown",
      "source": [
        "# Chat model test"
      ],
      "metadata": {
        "id": "fVVp4bNF-aZb"
      }
    },
    {
      "cell_type": "markdown",
      "source": [
        "Deprecated\n",
        "  - Use below:\n",
        "    - `pip install -U langchain-openai`\n",
        "    - `from langchain_openai import ChatOpenAI`  \n",
        "  - The function `predict` > `invoke` instead.\n",
        "\n"
      ],
      "metadata": {
        "id": "I36lsDVC9KPc"
      }
    },
    {
      "cell_type": "code",
      "source": [
        "from langchain_openai import ChatOpenAI\n",
        "from langchain.schema import SystemMessage, HumanMessage, AIMessage\n",
        "\n",
        "MODEL = 'gpt-3.5-turbo'\n",
        "chatbot = ChatOpenAI(\n",
        "    model_name = MODEL,\n",
        "    temperature=0.7,\n",
        "    max_tokens = 200\n",
        ") # 여기에 스트리밍 기능이 넣고 싶음.\n",
        "\n",
        "message = chatbot([\n",
        "    SystemMessage(content = '당신은 파이썬 공부를 도와주는 스터디 플래너입니다. 사용자가 원하는 분야에 대한 스터디 플랜을 작성합니다.'),\n",
        "    HumanMessage(content = '나는 파이썬을 배우고 싶어.')\n",
        "])\n",
        "answer = message.content"
      ],
      "metadata": {
        "id": "Y5zwjIV37Nwz"
      },
      "execution_count": 13,
      "outputs": []
    },
    {
      "cell_type": "code",
      "source": [
        "ic(message) # 답변은 AIMessage에 담겨온다."
      ],
      "metadata": {
        "colab": {
          "base_uri": "https://localhost:8080/"
        },
        "id": "Cd2Bjhn-KDR2",
        "outputId": "0e965df6-6e49-46ea-e620-f990faca2163"
      },
      "execution_count": 14,
      "outputs": [
        {
          "output_type": "stream",
          "name": "stderr",
          "text": [
            "ic| message: AIMessage(content='좋습니다! 파이썬을 배우고 싶으시군요. 어떤 분야에서 파이썬을 활용하고 싶으신가요? 예를 들어 웹 개발, 데이터 분석, 인공지능 등 다양한 분야에서 파이썬을 사용할 수 있습니다. 그래서 어떤 분야에 대해 스터디 플랜을 작성해 드릴까요?')\n"
          ]
        },
        {
          "output_type": "execute_result",
          "data": {
            "text/plain": [
              "AIMessage(content='좋습니다! 파이썬을 배우고 싶으시군요. 어떤 분야에서 파이썬을 활용하고 싶으신가요? 예를 들어 웹 개발, 데이터 분석, 인공지능 등 다양한 분야에서 파이썬을 사용할 수 있습니다. 그래서 어떤 분야에 대해 스터디 플랜을 작성해 드릴까요?')"
            ]
          },
          "metadata": {},
          "execution_count": 14
        }
      ]
    }
  ]
}